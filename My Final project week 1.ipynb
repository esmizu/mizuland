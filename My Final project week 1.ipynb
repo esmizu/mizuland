{
    "nbformat_minor": 1, 
    "cells": [
        {
            "source": "\n<h1>Week 1: Introduction </h1>\n\nThe Business Problem\nMy client owns several Coffee Shops in New York City. She has been told about the huge opportunities that Toronto poses, so she's seriously considering the idea of opening one of her Coffee Shops there but, where?\n\nThe brief: find the best spot to open her new Coffee Shop in Toronto, Canada.\n\nSince Toronto is a very big city, we'll focus our efforts in Downtown Toronto.\n\n<h2> The Approach </h2>\n\n1) Divide Toronto into grids.\n2) Analyze the density of restaurants per grid.\n3) Identify the zones of opportunity with low competition.\n\n<h2>The Data</h2>\n\nDescribing the Data: My first approach to the analysis was to find if there was a correlation between restaurant density, categories and a restaurant density or, at least, a trend. However, after further analysis of the API, its limitations are evident, so I'll focus just on restaurant density to determine opportunity.\n\nTo do this, I'll be using previously analyzed data sets (Toronto neighborhoods).\n\nFor further reference, the data sets are these:", 
            "cell_type": "markdown", 
            "metadata": {
                "collapsed": true
            }
        }, 
        {
            "source": "1) Toronto neighborhood list: https://en.wikipedia.org/wiki/List_of_postal_codes_of_Canada:_M\n\n3) Toronto neighborhood geo data: https://cocl.us/Geospatial_data/Geospatial_Coordinates.csv\n\nI've also created a simplified geojson file with Toronto's boroughs based on jasoicarter's Toronto Neighborhoods geojson file that you can find here: https://github.com/jasonicarter/toronto-geojson/blob/master/toronto_crs84.geojson\n\nFoursquare's data\nIn order to get more insight on the restaurant scene in Toronto, I'll need Foursquare's data. For my analysis, I'll only need the Explore endpoint (https://developer.foursquare.com/docs/api/venues/explore). This will give me the name of the venue, the location and the category.\n\n", 
            "cell_type": "markdown", 
            "metadata": {}
        }, 
        {
            "source": "", 
            "cell_type": "code", 
            "execution_count": null, 
            "outputs": [], 
            "metadata": {}
        }
    ], 
    "nbformat": 4, 
    "metadata": {
        "kernelspec": {
            "display_name": "Python 3.6", 
            "name": "python3", 
            "language": "python"
        }, 
        "language_info": {
            "mimetype": "text/x-python", 
            "nbconvert_exporter": "python", 
            "version": "3.6.8", 
            "name": "python", 
            "pygments_lexer": "ipython3", 
            "file_extension": ".py", 
            "codemirror_mode": {
                "version": 3, 
                "name": "ipython"
            }
        }
    }
}